{
 "cells": [
  {
   "cell_type": "code",
   "execution_count": 87,
   "metadata": {},
   "outputs": [
    {
     "name": "stdout",
     "output_type": "stream",
     "text": [
      "  OLED_DrawPoint(114,62,1);\n"
     ]
    }
   ],
   "source": [
    "import math\n",
    "import numpy as np\n",
    "np.set_printoptions(threshold = 1e6)\n",
    "GRAM=np.zeros((128,64),dtype=np.int32)\n",
    "\n",
    "deg2rad=math.pi/180\n",
    "\n",
    "# change to fit deg=0 or 180\n",
    "def tan_deg(deg):\n",
    "    if deg==90: return 1e10\n",
    "    elif deg<2: return math.tan(2*deg2rad)\n",
    "    elif deg>178: return math.tan(178*deg2rad)\n",
    "    else: return math.tan(deg*deg2rad)\n",
    "\n",
    "\n",
    "width=1\n",
    "angle=180 # bugs occur when angle=0 and =180\n",
    "distance=50\n",
    "length=10\n",
    "\n",
    "for x in range(128):\n",
    "    for y in range(64):\n",
    "        if (abs( (x-64)**2+(y-64)**2-distance**2 ) <= 35):\n",
    "            # cond1 = (abs( (x-64)**2+(y-64)**2-distance**2 ) <= 35) #true or false\n",
    "            # cond2 = ((y-64)/tan_deg(angle+width)+64-length <= x)\n",
    "            # cond3 = (x <= (y-64)/tan_deg(angle-width)+64+length)\n",
    "            # print([cond1, cond2, cond3, x, y, (y-64)/tan_deg(angle+width)+64-length, x, (y-64)/tan_deg(angle-width)+64+length])\n",
    "            if ((y-64)/tan_deg(angle+width)+64-length <= x) and \\\n",
    "                (x <= (y-64)/tan_deg(angle-width)+64+length):\n",
    "                GRAM[x][y]=1\n",
    "                # print(x,y)\n",
    "                print('  OLED_DrawPoint({},{},1);'.format(x,y))\n"
   ]
  }
 ],
 "metadata": {
  "kernelspec": {
   "display_name": "Python 3.8.8 64-bit",
   "language": "python",
   "name": "python3"
  },
  "language_info": {
   "codemirror_mode": {
    "name": "ipython",
    "version": 3
   },
   "file_extension": ".py",
   "mimetype": "text/x-python",
   "name": "python",
   "nbconvert_exporter": "python",
   "pygments_lexer": "ipython3",
   "version": "3.8.8"
  },
  "orig_nbformat": 4,
  "vscode": {
   "interpreter": {
    "hash": "c3012d1cc5f99132ce8f91d03d697e41e392b29ae044aa22d810ab34e95592d3"
   }
  }
 },
 "nbformat": 4,
 "nbformat_minor": 2
}
