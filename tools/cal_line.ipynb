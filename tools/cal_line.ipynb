{
 "cells": [
  {
   "cell_type": "code",
   "execution_count": 6,
   "metadata": {},
   "outputs": [
    {
     "name": "stdout",
     "output_type": "stream",
     "text": [
      "  OLED_DrawPoint(64,0,1);\n",
      "  OLED_DrawPoint(64,1,1);\n",
      "  OLED_DrawPoint(64,2,1);\n",
      "  OLED_DrawPoint(64,3,1);\n",
      "  OLED_DrawPoint(64,4,1);\n",
      "  OLED_DrawPoint(64,5,1);\n",
      "  OLED_DrawPoint(64,6,1);\n",
      "  OLED_DrawPoint(64,7,1);\n",
      "  OLED_DrawPoint(64,8,1);\n",
      "  OLED_DrawPoint(64,9,1);\n",
      "  OLED_DrawPoint(64,10,1);\n",
      "  OLED_DrawPoint(64,11,1);\n",
      "  OLED_DrawPoint(64,12,1);\n",
      "  OLED_DrawPoint(64,13,1);\n",
      "  OLED_DrawPoint(64,14,1);\n",
      "  OLED_DrawPoint(64,15,1);\n",
      "  OLED_DrawPoint(64,16,1);\n",
      "  OLED_DrawPoint(64,17,1);\n",
      "  OLED_DrawPoint(64,18,1);\n",
      "  OLED_DrawPoint(64,19,1);\n",
      "  OLED_DrawPoint(64,20,1);\n",
      "  OLED_DrawPoint(64,21,1);\n",
      "  OLED_DrawPoint(64,22,1);\n",
      "  OLED_DrawPoint(64,23,1);\n",
      "  OLED_DrawPoint(64,24,1);\n",
      "  OLED_DrawPoint(64,25,1);\n",
      "  OLED_DrawPoint(64,26,1);\n",
      "  OLED_DrawPoint(64,27,1);\n",
      "  OLED_DrawPoint(64,28,1);\n",
      "  OLED_DrawPoint(64,29,1);\n",
      "  OLED_DrawPoint(64,30,1);\n",
      "  OLED_DrawPoint(64,31,1);\n",
      "  OLED_DrawPoint(64,32,1);\n",
      "  OLED_DrawPoint(64,33,1);\n",
      "  OLED_DrawPoint(64,34,1);\n",
      "  OLED_DrawPoint(64,35,1);\n",
      "  OLED_DrawPoint(64,36,1);\n",
      "  OLED_DrawPoint(64,37,1);\n",
      "  OLED_DrawPoint(64,38,1);\n",
      "  OLED_DrawPoint(64,39,1);\n",
      "  OLED_DrawPoint(64,40,1);\n",
      "  OLED_DrawPoint(64,41,1);\n",
      "  OLED_DrawPoint(64,42,1);\n",
      "  OLED_DrawPoint(64,43,1);\n",
      "  OLED_DrawPoint(64,44,1);\n",
      "  OLED_DrawPoint(64,45,1);\n",
      "  OLED_DrawPoint(64,46,1);\n",
      "  OLED_DrawPoint(64,47,1);\n",
      "  OLED_DrawPoint(64,48,1);\n",
      "  OLED_DrawPoint(64,49,1);\n",
      "  OLED_DrawPoint(64,50,1);\n",
      "  OLED_DrawPoint(64,51,1);\n",
      "  OLED_DrawPoint(64,52,1);\n",
      "  OLED_DrawPoint(64,53,1);\n",
      "  OLED_DrawPoint(64,54,1);\n",
      "  OLED_DrawPoint(64,55,1);\n",
      "  OLED_DrawPoint(64,56,1);\n",
      "  OLED_DrawPoint(64,57,1);\n",
      "  OLED_DrawPoint(64,58,1);\n",
      "  OLED_DrawPoint(64,59,1);\n",
      "  OLED_DrawPoint(64,60,1);\n",
      "  OLED_DrawPoint(64,61,1);\n",
      "  OLED_DrawPoint(64,62,1);\n",
      "  OLED_DrawPoint(64,63,1);\n"
     ]
    }
   ],
   "source": [
    "# calculate a line to display in OLED\n",
    "import numpy as np\n",
    "np.set_printoptions(threshold = 1e6)\n",
    "GRAM=np.zeros((128,64),dtype=np.int32)\n",
    "cnt=0\n",
    "\n",
    "for x in range(0,128):\n",
    "    for y in range(0,64):\n",
    "        if abs( x-64 ) <= 0:\n",
    "            GRAM[x][y]=1\n",
    "            cnt+=1\n",
    "            # print(x,y)\n",
    "            print('  OLED_DrawPoint({},{},1);'.format(x,y))"
   ]
  }
 ],
 "metadata": {
  "kernelspec": {
   "display_name": "Python 3.8.8 64-bit",
   "language": "python",
   "name": "python3"
  },
  "language_info": {
   "codemirror_mode": {
    "name": "ipython",
    "version": 3
   },
   "file_extension": ".py",
   "mimetype": "text/x-python",
   "name": "python",
   "nbconvert_exporter": "python",
   "pygments_lexer": "ipython3",
   "version": "3.8.8"
  },
  "orig_nbformat": 4,
  "vscode": {
   "interpreter": {
    "hash": "c3012d1cc5f99132ce8f91d03d697e41e392b29ae044aa22d810ab34e95592d3"
   }
  }
 },
 "nbformat": 4,
 "nbformat_minor": 2
}
